{
 "cells": [
  {
   "cell_type": "code",
   "execution_count": 31,
   "metadata": {},
   "outputs": [],
   "source": [
    "import tensorflow as tf\n",
    "import os\n",
    "import shutil\n",
    "import glob\n",
    "import random\n",
    "import warnings\n",
    "import matplotlib.pyplot as plt\n",
    "from tensorflow.keras.preprocessing.image import ImageDataGenerator\n",
    "from tensorflow.keras.models import Sequential\n",
    "from tensorflow.keras.layers import Dense,Dropout,Convolution2D,MaxPooling2D,Flatten #action detectionimport tensorflow\n",
    "from tensorflow.keras import layers, models, optimizers\n",
    "from tensorflow.keras.preprocessing.image import ImageDataGenerator\n",
    "from tensorflow.keras.layers import Conv2D, MaxPooling2D, Flatten, Dense\n",
    "import os\n",
    "import numpy as np\n",
    "import tensorflow as tf\n",
    "from tensorflow.keras import layers, models  # Importing models module\n",
    "import tensorflow as tf\n",
    "import matplotlib.pyplot as plt\n",
    "from IPython.display import HTML\n",
    "import numpy as np\n",
    "from keras.preprocessing import image\n"
   ]
  },
  {
   "cell_type": "code",
   "execution_count": 32,
   "metadata": {},
   "outputs": [],
   "source": [
    "\n",
    "IMAGE_SIZE = 128\n",
    "NUM_CLASSES = 4\n",
    "DATA_DIR = r\"C:\\Users\\narne\\OneDrive\\Desktop\\Training\"\n",
    "\n",
    "# Function to load images and labels from directory\n",
    "def load_data(data_dir):\n",
    "    images = []\n",
    "    labels = []\n",
    "    classes = os.listdir(data_dir)\n",
    "    for class_id, class_name in enumerate(classes):\n",
    "        class_dir = os.path.join(data_dir, class_name)\n",
    "        for image_name in os.listdir(class_dir):\n",
    "            image_path = os.path.join(class_dir, image_name)\n",
    "            img = image.load_img(image_path, target_size=(IMAGE_SIZE, IMAGE_SIZE))\n",
    "            img_array = image.img_to_array(img)\n",
    "            images.append(img_array)\n",
    "            labels.append(class_id)\n",
    "    return np.array(images), np.array(labels)\n"
   ]
  },
  {
   "cell_type": "code",
   "execution_count": 33,
   "metadata": {},
   "outputs": [],
   "source": [
    "\n",
    "# Load training data\n",
    "X_train, y_train = load_data(DATA_DIR)\n",
    "\n",
    "# Normalize images\n",
    "X_train = X_train / 255.0\n",
    "\n"
   ]
  },
  {
   "cell_type": "code",
   "execution_count": 34,
   "metadata": {},
   "outputs": [],
   "source": [
    "# Convert labels to one-hot encoding\n",
    "from keras.utils import to_categorical\n",
    "y_train = to_categorical(y_train, NUM_CLASSES)"
   ]
  },
  {
   "cell_type": "code",
   "execution_count": 35,
   "metadata": {},
   "outputs": [],
   "source": [
    "# Define test data directory\n",
    "TEST_DATA_DIR = r\"C:\\Users\\narne\\OneDrive\\Desktop\\Testing\"\n",
    "\n",
    "# Function to load test images and labels from directory\n",
    "def load_test_data(data_dir):\n",
    "    images = []\n",
    "    labels = []\n",
    "    classes = os.listdir(data_dir)\n",
    "    for class_id, class_name in enumerate(classes):\n",
    "        class_dir = os.path.join(data_dir, class_name)\n",
    "        for image_name in os.listdir(class_dir):\n",
    "            image_path = os.path.join(class_dir, image_name)\n",
    "            img = image.load_img(image_path, target_size=(IMAGE_SIZE, IMAGE_SIZE))\n",
    "            img_array = image.img_to_array(img)\n",
    "            images.append(img_array)\n",
    "            labels.append(class_id)\n",
    "    return np.array(images), np.array(labels)\n"
   ]
  },
  {
   "cell_type": "code",
   "execution_count": 36,
   "metadata": {},
   "outputs": [],
   "source": [
    "\n",
    "# Load test data\n",
    "X_test, y_test = load_test_data(TEST_DATA_DIR)\n",
    "\n",
    "# Normalize test images\n",
    "X_test = X_test / 255.0\n",
    "\n",
    "# Convert test labels to one-hot encoding\n",
    "y_test = to_categorical(y_test, NUM_CLASSES)\n",
    "\n",
    "\n"
   ]
  },
  {
   "cell_type": "code",
   "execution_count": 37,
   "metadata": {},
   "outputs": [],
   "source": [
    "# Build CNN architecture model\n",
    "model = Sequential()\n",
    "model.add(Conv2D(32, (3, 3), activation='relu', input_shape=(IMAGE_SIZE, IMAGE_SIZE, 3)))\n",
    "model.add(MaxPooling2D((2, 2)))\n",
    "model.add(Conv2D(64, (3, 3), activation='relu'))\n",
    "model.add(MaxPooling2D((2, 2)))\n",
    "model.add(Conv2D(128, (3, 3), activation='relu'))\n",
    "model.add(MaxPooling2D((2, 2)))\n",
    "model.add(Conv2D(128, (3, 3), activation='relu'))\n",
    "model.add(MaxPooling2D((2, 2)))\n",
    "model.add(Flatten())\n",
    "model.add(Dense(512, activation='relu'))\n",
    "model.add(Dense(NUM_CLASSES, activation='softmax'))\n"
   ]
  },
  {
   "cell_type": "code",
   "execution_count": 38,
   "metadata": {},
   "outputs": [],
   "source": [
    "model.compile(optimizer='adam',\n",
    "              loss='categorical_crossentropy',\n",
    "              metrics=['accuracy'])\n",
    "              "
   ]
  },
  {
   "cell_type": "code",
   "execution_count": 39,
   "metadata": {},
   "outputs": [
    {
     "name": "stdout",
     "output_type": "stream",
     "text": [
      "Epoch 1/10\n",
      "133/133 [==============================] - 23s 158ms/step - loss: 0.6148 - accuracy: 0.7027 - val_loss: 0.6136 - val_accuracy: 0.7557\n",
      "Epoch 2/10\n",
      "133/133 [==============================] - 22s 162ms/step - loss: 0.3780 - accuracy: 0.8484 - val_loss: 0.4554 - val_accuracy: 0.8111\n",
      "Epoch 3/10\n",
      "133/133 [==============================] - 21s 161ms/step - loss: 0.2545 - accuracy: 0.9034 - val_loss: 0.3098 - val_accuracy: 0.8734\n",
      "Epoch 4/10\n",
      "133/133 [==============================] - 22s 164ms/step - loss: 0.1884 - accuracy: 0.9269 - val_loss: 0.2099 - val_accuracy: 0.9248\n",
      "Epoch 5/10\n",
      "133/133 [==============================] - 22s 166ms/step - loss: 0.1296 - accuracy: 0.9535 - val_loss: 0.1799 - val_accuracy: 0.9347\n",
      "Epoch 6/10\n",
      "133/133 [==============================] - 22s 164ms/step - loss: 0.0876 - accuracy: 0.9680 - val_loss: 0.1347 - val_accuracy: 0.9436\n",
      "Epoch 7/10\n",
      "133/133 [==============================] - 22s 165ms/step - loss: 0.0733 - accuracy: 0.9734 - val_loss: 0.1277 - val_accuracy: 0.9535\n",
      "Epoch 8/10\n",
      "133/133 [==============================] - 22s 163ms/step - loss: 0.0470 - accuracy: 0.9828 - val_loss: 0.1350 - val_accuracy: 0.9604\n",
      "Epoch 9/10\n",
      "133/133 [==============================] - 22s 163ms/step - loss: 0.0232 - accuracy: 0.9927 - val_loss: 0.2032 - val_accuracy: 0.9367\n",
      "Epoch 10/10\n",
      "133/133 [==============================] - 22s 164ms/step - loss: 0.0273 - accuracy: 0.9892 - val_loss: 0.0973 - val_accuracy: 0.9703\n"
     ]
    },
    {
     "data": {
      "text/plain": [
       "<keras.src.callbacks.History at 0x21dff7d1c90>"
      ]
     },
     "execution_count": 39,
     "metadata": {},
     "output_type": "execute_result"
    }
   ],
   "source": [
    "# Train the model\n",
    "model.fit(X_train, y_train, epochs=10, batch_size=32, validation_data=(X_test, y_test))"
   ]
  },
  {
   "cell_type": "code",
   "execution_count": 40,
   "metadata": {},
   "outputs": [
    {
     "name": "stdout",
     "output_type": "stream",
     "text": [
      "[[1. 0. 0. 0.]\n",
      " [1. 0. 0. 0.]\n",
      " [1. 0. 0. 0.]\n",
      " ...\n",
      " [0. 0. 1. 0.]\n",
      " [0. 0. 1. 0.]\n",
      " [0. 0. 1. 0.]]\n"
     ]
    }
   ],
   "source": [
    "print(y_train)"
   ]
  },
  {
   "cell_type": "code",
   "execution_count": 41,
   "metadata": {},
   "outputs": [],
   "source": [
    "model.save(\"Brain_Tumor_Detection.h5\")"
   ]
  },
  {
   "cell_type": "code",
   "execution_count": null,
   "metadata": {},
   "outputs": [],
   "source": []
  }
 ],
 "metadata": {
  "kernelspec": {
   "display_name": "Python 3",
   "language": "python",
   "name": "python3"
  },
  "language_info": {
   "codemirror_mode": {
    "name": "ipython",
    "version": 3
   },
   "file_extension": ".py",
   "mimetype": "text/x-python",
   "name": "python",
   "nbconvert_exporter": "python",
   "pygments_lexer": "ipython3",
   "version": "3.11.4"
  }
 },
 "nbformat": 4,
 "nbformat_minor": 2
}
